{
  "nbformat": 4,
  "nbformat_minor": 0,
  "metadata": {
    "colab": {
      "name": "Telco Costumer Churn(modelling).ipynb",
      "provenance": [],
      "collapsed_sections": [
        "_WIGqNl2yIuL",
        "-Kbs2yvi0Sk8",
        "FeZVs7et1YfY",
        "JN7r2f1Uwn7s"
      ],
      "authorship_tag": "ABX9TyMrWi+CqXo3FVg4omrVbGXU",
      "include_colab_link": true
    },
    "kernelspec": {
      "name": "python3",
      "display_name": "Python 3"
    },
    "language_info": {
      "name": "python"
    },
    "widgets": {
      "application/vnd.jupyter.widget-state+json": {
        "c762a926b247495c9d06e07e3320ad81": {
          "model_module": "@jupyter-widgets/controls",
          "model_name": "HBoxModel",
          "model_module_version": "1.5.0",
          "state": {
            "_view_name": "HBoxView",
            "_dom_classes": [],
            "_model_name": "HBoxModel",
            "_view_module": "@jupyter-widgets/controls",
            "_model_module_version": "1.5.0",
            "_view_count": null,
            "_view_module_version": "1.5.0",
            "box_style": "",
            "layout": "IPY_MODEL_0777c275b16749b49901d247d29c6474",
            "_model_module": "@jupyter-widgets/controls",
            "children": [
              "IPY_MODEL_ed43cb1b316f40848b7077011ebb2256",
              "IPY_MODEL_5eec334f62a04b18821ff0c8e2efd08a",
              "IPY_MODEL_a5921f090df24644a56a49beee9439f2"
            ]
          }
        },
        "0777c275b16749b49901d247d29c6474": {
          "model_module": "@jupyter-widgets/base",
          "model_name": "LayoutModel",
          "model_module_version": "1.2.0",
          "state": {
            "_view_name": "LayoutView",
            "grid_template_rows": null,
            "right": null,
            "justify_content": null,
            "_view_module": "@jupyter-widgets/base",
            "overflow": null,
            "_model_module_version": "1.2.0",
            "_view_count": null,
            "flex_flow": null,
            "width": null,
            "min_width": null,
            "border": null,
            "align_items": null,
            "bottom": null,
            "_model_module": "@jupyter-widgets/base",
            "top": null,
            "grid_column": null,
            "overflow_y": null,
            "overflow_x": null,
            "grid_auto_flow": null,
            "grid_area": null,
            "grid_template_columns": null,
            "flex": null,
            "_model_name": "LayoutModel",
            "justify_items": null,
            "grid_row": null,
            "max_height": null,
            "align_content": null,
            "visibility": null,
            "align_self": null,
            "height": null,
            "min_height": null,
            "padding": null,
            "grid_auto_rows": null,
            "grid_gap": null,
            "max_width": null,
            "order": null,
            "_view_module_version": "1.2.0",
            "grid_template_areas": null,
            "object_position": null,
            "object_fit": null,
            "grid_auto_columns": null,
            "margin": null,
            "display": null,
            "left": null
          }
        },
        "ed43cb1b316f40848b7077011ebb2256": {
          "model_module": "@jupyter-widgets/controls",
          "model_name": "HTMLModel",
          "model_module_version": "1.5.0",
          "state": {
            "_view_name": "HTMLView",
            "style": "IPY_MODEL_ba93b0b494fc4891b2b3c3f0954d04ef",
            "_dom_classes": [],
            "description": "",
            "_model_name": "HTMLModel",
            "placeholder": "​",
            "_view_module": "@jupyter-widgets/controls",
            "_model_module_version": "1.5.0",
            "value": "100%",
            "_view_count": null,
            "_view_module_version": "1.5.0",
            "description_tooltip": null,
            "_model_module": "@jupyter-widgets/controls",
            "layout": "IPY_MODEL_745eb9c0d5a44da883be0988c597aa5c"
          }
        },
        "5eec334f62a04b18821ff0c8e2efd08a": {
          "model_module": "@jupyter-widgets/controls",
          "model_name": "FloatProgressModel",
          "model_module_version": "1.5.0",
          "state": {
            "_view_name": "ProgressView",
            "style": "IPY_MODEL_fc4d1c92166740cab4529b06d3551e69",
            "_dom_classes": [],
            "description": "",
            "_model_name": "FloatProgressModel",
            "bar_style": "success",
            "max": 50,
            "_view_module": "@jupyter-widgets/controls",
            "_model_module_version": "1.5.0",
            "value": 50,
            "_view_count": null,
            "_view_module_version": "1.5.0",
            "orientation": "horizontal",
            "min": 0,
            "description_tooltip": null,
            "_model_module": "@jupyter-widgets/controls",
            "layout": "IPY_MODEL_18710ef136c94d80b42404d73a1acc00"
          }
        },
        "a5921f090df24644a56a49beee9439f2": {
          "model_module": "@jupyter-widgets/controls",
          "model_name": "HTMLModel",
          "model_module_version": "1.5.0",
          "state": {
            "_view_name": "HTMLView",
            "style": "IPY_MODEL_43b32f62b81a43ec8641887f2c16dde7",
            "_dom_classes": [],
            "description": "",
            "_model_name": "HTMLModel",
            "placeholder": "​",
            "_view_module": "@jupyter-widgets/controls",
            "_model_module_version": "1.5.0",
            "value": " 50/50 [03:35&lt;00:00,  4.37s/it]",
            "_view_count": null,
            "_view_module_version": "1.5.0",
            "description_tooltip": null,
            "_model_module": "@jupyter-widgets/controls",
            "layout": "IPY_MODEL_402200592c214103b961deb69f50b6d6"
          }
        },
        "ba93b0b494fc4891b2b3c3f0954d04ef": {
          "model_module": "@jupyter-widgets/controls",
          "model_name": "DescriptionStyleModel",
          "model_module_version": "1.5.0",
          "state": {
            "_view_name": "StyleView",
            "_model_name": "DescriptionStyleModel",
            "description_width": "",
            "_view_module": "@jupyter-widgets/base",
            "_model_module_version": "1.5.0",
            "_view_count": null,
            "_view_module_version": "1.2.0",
            "_model_module": "@jupyter-widgets/controls"
          }
        },
        "745eb9c0d5a44da883be0988c597aa5c": {
          "model_module": "@jupyter-widgets/base",
          "model_name": "LayoutModel",
          "model_module_version": "1.2.0",
          "state": {
            "_view_name": "LayoutView",
            "grid_template_rows": null,
            "right": null,
            "justify_content": null,
            "_view_module": "@jupyter-widgets/base",
            "overflow": null,
            "_model_module_version": "1.2.0",
            "_view_count": null,
            "flex_flow": null,
            "width": null,
            "min_width": null,
            "border": null,
            "align_items": null,
            "bottom": null,
            "_model_module": "@jupyter-widgets/base",
            "top": null,
            "grid_column": null,
            "overflow_y": null,
            "overflow_x": null,
            "grid_auto_flow": null,
            "grid_area": null,
            "grid_template_columns": null,
            "flex": null,
            "_model_name": "LayoutModel",
            "justify_items": null,
            "grid_row": null,
            "max_height": null,
            "align_content": null,
            "visibility": null,
            "align_self": null,
            "height": null,
            "min_height": null,
            "padding": null,
            "grid_auto_rows": null,
            "grid_gap": null,
            "max_width": null,
            "order": null,
            "_view_module_version": "1.2.0",
            "grid_template_areas": null,
            "object_position": null,
            "object_fit": null,
            "grid_auto_columns": null,
            "margin": null,
            "display": null,
            "left": null
          }
        },
        "fc4d1c92166740cab4529b06d3551e69": {
          "model_module": "@jupyter-widgets/controls",
          "model_name": "ProgressStyleModel",
          "model_module_version": "1.5.0",
          "state": {
            "_view_name": "StyleView",
            "_model_name": "ProgressStyleModel",
            "description_width": "",
            "_view_module": "@jupyter-widgets/base",
            "_model_module_version": "1.5.0",
            "_view_count": null,
            "_view_module_version": "1.2.0",
            "bar_color": null,
            "_model_module": "@jupyter-widgets/controls"
          }
        },
        "18710ef136c94d80b42404d73a1acc00": {
          "model_module": "@jupyter-widgets/base",
          "model_name": "LayoutModel",
          "model_module_version": "1.2.0",
          "state": {
            "_view_name": "LayoutView",
            "grid_template_rows": null,
            "right": null,
            "justify_content": null,
            "_view_module": "@jupyter-widgets/base",
            "overflow": null,
            "_model_module_version": "1.2.0",
            "_view_count": null,
            "flex_flow": null,
            "width": null,
            "min_width": null,
            "border": null,
            "align_items": null,
            "bottom": null,
            "_model_module": "@jupyter-widgets/base",
            "top": null,
            "grid_column": null,
            "overflow_y": null,
            "overflow_x": null,
            "grid_auto_flow": null,
            "grid_area": null,
            "grid_template_columns": null,
            "flex": null,
            "_model_name": "LayoutModel",
            "justify_items": null,
            "grid_row": null,
            "max_height": null,
            "align_content": null,
            "visibility": null,
            "align_self": null,
            "height": null,
            "min_height": null,
            "padding": null,
            "grid_auto_rows": null,
            "grid_gap": null,
            "max_width": null,
            "order": null,
            "_view_module_version": "1.2.0",
            "grid_template_areas": null,
            "object_position": null,
            "object_fit": null,
            "grid_auto_columns": null,
            "margin": null,
            "display": null,
            "left": null
          }
        },
        "43b32f62b81a43ec8641887f2c16dde7": {
          "model_module": "@jupyter-widgets/controls",
          "model_name": "DescriptionStyleModel",
          "model_module_version": "1.5.0",
          "state": {
            "_view_name": "StyleView",
            "_model_name": "DescriptionStyleModel",
            "description_width": "",
            "_view_module": "@jupyter-widgets/base",
            "_model_module_version": "1.5.0",
            "_view_count": null,
            "_view_module_version": "1.2.0",
            "_model_module": "@jupyter-widgets/controls"
          }
        },
        "402200592c214103b961deb69f50b6d6": {
          "model_module": "@jupyter-widgets/base",
          "model_name": "LayoutModel",
          "model_module_version": "1.2.0",
          "state": {
            "_view_name": "LayoutView",
            "grid_template_rows": null,
            "right": null,
            "justify_content": null,
            "_view_module": "@jupyter-widgets/base",
            "overflow": null,
            "_model_module_version": "1.2.0",
            "_view_count": null,
            "flex_flow": null,
            "width": null,
            "min_width": null,
            "border": null,
            "align_items": null,
            "bottom": null,
            "_model_module": "@jupyter-widgets/base",
            "top": null,
            "grid_column": null,
            "overflow_y": null,
            "overflow_x": null,
            "grid_auto_flow": null,
            "grid_area": null,
            "grid_template_columns": null,
            "flex": null,
            "_model_name": "LayoutModel",
            "justify_items": null,
            "grid_row": null,
            "max_height": null,
            "align_content": null,
            "visibility": null,
            "align_self": null,
            "height": null,
            "min_height": null,
            "padding": null,
            "grid_auto_rows": null,
            "grid_gap": null,
            "max_width": null,
            "order": null,
            "_view_module_version": "1.2.0",
            "grid_template_areas": null,
            "object_position": null,
            "object_fit": null,
            "grid_auto_columns": null,
            "margin": null,
            "display": null,
            "left": null
          }
        }
      }
    }
  },
  "cells": [
    {
      "cell_type": "markdown",
      "metadata": {
        "id": "view-in-github",
        "colab_type": "text"
      },
      "source": [
        "<a href=\"https://colab.research.google.com/github/sultanbst123/Telco_customer_churn/blob/main/Telco_Costumer_Churn(modelling).ipynb\" target=\"_parent\"><img src=\"https://colab.research.google.com/assets/colab-badge.svg\" alt=\"Open In Colab\"/></a>"
      ]
    },
    {
      "cell_type": "code",
      "metadata": {
        "colab": {
          "base_uri": "https://localhost:8080/"
        },
        "id": "qjwFbCOvlY16",
        "outputId": "e8b144fa-0fd6-41ab-e01a-a8108b466ce9"
      },
      "source": [
        "from google.colab import drive\n",
        "drive.mount('/content/drive')"
      ],
      "execution_count": null,
      "outputs": [
        {
          "output_type": "stream",
          "name": "stdout",
          "text": [
            "Drive already mounted at /content/drive; to attempt to forcibly remount, call drive.mount(\"/content/drive\", force_remount=True).\n"
          ]
        }
      ]
    },
    {
      "cell_type": "code",
      "metadata": {
        "id": "ansCFunWlma2"
      },
      "source": [
        "!pip install --upgrade scikit-learn"
      ],
      "execution_count": null,
      "outputs": []
    },
    {
      "cell_type": "code",
      "metadata": {
        "id": "ESBWfqcHlvc7"
      },
      "source": [
        "!pip install catboost\n",
        "!pip install borutashap\n",
        "!pip install optuna"
      ],
      "execution_count": null,
      "outputs": []
    },
    {
      "cell_type": "code",
      "metadata": {
        "id": "22BjoD0TkqPC"
      },
      "source": [
        "import pandas as pd\n",
        "import numpy as np\n",
        "import matplotlib.pyplot as plt\n",
        "import seaborn as sns\n",
        "import optuna\n",
        "from BorutaShap import BorutaShap\n",
        " \n",
        "# classification\n",
        "import xgboost, lightgbm, catboost\n",
        "from xgboost import XGBClassifier\n",
        "from catboost import CatBoostClassifier\n",
        "from lightgbm import LGBMClassifier\n",
        "from sklearn.tree import DecisionTreeClassifier, ExtraTreeClassifier\n",
        "from sklearn.ensemble import (RandomForestClassifier, StackingClassifier, GradientBoostingClassifier,\n",
        "                             AdaBoostClassifier, HistGradientBoostingClassifier) \n",
        "from sklearn.svm import SVC\n",
        "from sklearn.linear_model import LogisticRegression\n",
        "from sklearn.neighbors import KNeighborsClassifier\n",
        " \n",
        "# regression\n",
        "from xgboost import XGBRegressor\n",
        "from catboost import CatBoostRegressor\n",
        "from lightgbm import LGBMRegressor\n",
        "from sklearn.tree import DecisionTreeRegressor, ExtraTreeRegressor\n",
        "from sklearn.ensemble import (RandomForestRegressor, GradientBoostingRegressor,\n",
        "                             AdaBoostRegressor, HistGradientBoostingRegressor) \n",
        "from sklearn.svm import SVR\n",
        "from sklearn.linear_model import LinearRegression, Ridge, Lasso, ElasticNet\n",
        "from sklearn.neighbors import KNeighborsRegressor\n",
        "\n",
        "#preprocessing\n",
        "from sklearn.model_selection import train_test_split, KFold, cross_val_score, StratifiedKFold, GridSearchCV\n",
        "from sklearn.metrics import (accuracy_score, classification_report, confusion_matrix, \n",
        "                            log_loss, roc_auc_score, plot_roc_curve,plot_confusion_matrix) \n",
        "from sklearn.metrics import mean_absolute_error, mean_squared_error, mean_squared_log_error\n",
        "from sklearn.preprocessing import LabelEncoder,OneHotEncoder, StandardScaler, MinMaxScaler, RobustScaler\n",
        "from sklearn.calibration import CalibrationDisplay\n",
        "\n",
        "import warnings\n",
        "warnings.filterwarnings(\"ignore\")\n",
        " \n",
        "%matplotlib inline"
      ],
      "execution_count": null,
      "outputs": []
    },
    {
      "cell_type": "code",
      "metadata": {
        "id": "2uT_S236mCHi"
      },
      "source": [
        "train = pd.read_csv(\"/content/drive/MyDrive/Telco costumers churn/train_churn(clean).csv\")\n",
        "test = pd.read_csv(\"/content/drive/MyDrive/Telco costumers churn/test_churn(clean).csv\")"
      ],
      "execution_count": null,
      "outputs": []
    },
    {
      "cell_type": "code",
      "metadata": {
        "id": "ztn996fnsClD"
      },
      "source": [
        "df =pd.concat([train, test])"
      ],
      "execution_count": null,
      "outputs": []
    },
    {
      "cell_type": "code",
      "metadata": {
        "colab": {
          "base_uri": "https://localhost:8080/"
        },
        "id": "Hj1JVXpjsNRa",
        "outputId": "c0b0df47-f0cc-4134-884a-0874bc075d94"
      },
      "source": [
        "df.shape"
      ],
      "execution_count": null,
      "outputs": [
        {
          "output_type": "execute_result",
          "data": {
            "text/plain": [
              "(7026, 20)"
            ]
          },
          "metadata": {},
          "execution_count": 7
        }
      ]
    },
    {
      "cell_type": "code",
      "metadata": {
        "colab": {
          "base_uri": "https://localhost:8080/"
        },
        "id": "U7m5I3HCmVsZ",
        "outputId": "28292fba-1b6f-4f54-a04e-80594a22a4fd"
      },
      "source": [
        "df.info()"
      ],
      "execution_count": null,
      "outputs": [
        {
          "output_type": "stream",
          "name": "stdout",
          "text": [
            "<class 'pandas.core.frame.DataFrame'>\n",
            "Int64Index: 7026 entries, 0 to 1408\n",
            "Data columns (total 20 columns):\n",
            " #   Column            Non-Null Count  Dtype  \n",
            "---  ------            --------------  -----  \n",
            " 0   gender            7026 non-null   object \n",
            " 1   SeniorCitizen     7026 non-null   int64  \n",
            " 2   Partner           7026 non-null   object \n",
            " 3   Dependents        7026 non-null   object \n",
            " 4   tenure            7026 non-null   int64  \n",
            " 5   PhoneService      7026 non-null   object \n",
            " 6   MultipleLines     7026 non-null   object \n",
            " 7   InternetService   7026 non-null   object \n",
            " 8   OnlineSecurity    7026 non-null   object \n",
            " 9   OnlineBackup      7026 non-null   object \n",
            " 10  DeviceProtection  7026 non-null   object \n",
            " 11  TechSupport       7026 non-null   object \n",
            " 12  StreamingTV       7026 non-null   object \n",
            " 13  StreamingMovies   7026 non-null   object \n",
            " 14  Contract          7026 non-null   object \n",
            " 15  PaperlessBilling  7026 non-null   object \n",
            " 16  PaymentMethod     7026 non-null   object \n",
            " 17  MonthlyCharges    7026 non-null   float64\n",
            " 18  TotalCharges      7026 non-null   float64\n",
            " 19  Churn             7026 non-null   object \n",
            "dtypes: float64(2), int64(2), object(16)\n",
            "memory usage: 1.1+ MB\n"
          ]
        }
      ]
    },
    {
      "cell_type": "code",
      "metadata": {
        "colab": {
          "base_uri": "https://localhost:8080/",
          "height": 309
        },
        "id": "RAISrgUqmZNB",
        "outputId": "506c79e9-473e-4180-fdbf-87e41a6ae471"
      },
      "source": [
        "df.head()"
      ],
      "execution_count": null,
      "outputs": [
        {
          "output_type": "execute_result",
          "data": {
            "text/html": [
              "<div>\n",
              "<style scoped>\n",
              "    .dataframe tbody tr th:only-of-type {\n",
              "        vertical-align: middle;\n",
              "    }\n",
              "\n",
              "    .dataframe tbody tr th {\n",
              "        vertical-align: top;\n",
              "    }\n",
              "\n",
              "    .dataframe thead th {\n",
              "        text-align: right;\n",
              "    }\n",
              "</style>\n",
              "<table border=\"1\" class=\"dataframe\">\n",
              "  <thead>\n",
              "    <tr style=\"text-align: right;\">\n",
              "      <th></th>\n",
              "      <th>gender</th>\n",
              "      <th>SeniorCitizen</th>\n",
              "      <th>Partner</th>\n",
              "      <th>Dependents</th>\n",
              "      <th>tenure</th>\n",
              "      <th>PhoneService</th>\n",
              "      <th>MultipleLines</th>\n",
              "      <th>InternetService</th>\n",
              "      <th>OnlineSecurity</th>\n",
              "      <th>OnlineBackup</th>\n",
              "      <th>DeviceProtection</th>\n",
              "      <th>TechSupport</th>\n",
              "      <th>StreamingTV</th>\n",
              "      <th>StreamingMovies</th>\n",
              "      <th>Contract</th>\n",
              "      <th>PaperlessBilling</th>\n",
              "      <th>PaymentMethod</th>\n",
              "      <th>MonthlyCharges</th>\n",
              "      <th>TotalCharges</th>\n",
              "      <th>Churn</th>\n",
              "    </tr>\n",
              "  </thead>\n",
              "  <tbody>\n",
              "    <tr>\n",
              "      <th>0</th>\n",
              "      <td>Male</td>\n",
              "      <td>0</td>\n",
              "      <td>No</td>\n",
              "      <td>No</td>\n",
              "      <td>57</td>\n",
              "      <td>No</td>\n",
              "      <td>No phone service</td>\n",
              "      <td>DSL</td>\n",
              "      <td>Yes</td>\n",
              "      <td>No</td>\n",
              "      <td>Yes</td>\n",
              "      <td>No</td>\n",
              "      <td>Yes</td>\n",
              "      <td>Yes</td>\n",
              "      <td>Month-to-month</td>\n",
              "      <td>Yes</td>\n",
              "      <td>Electronic check</td>\n",
              "      <td>53.75</td>\n",
              "      <td>3196.00</td>\n",
              "      <td>No</td>\n",
              "    </tr>\n",
              "    <tr>\n",
              "      <th>1</th>\n",
              "      <td>Female</td>\n",
              "      <td>0</td>\n",
              "      <td>Yes</td>\n",
              "      <td>No</td>\n",
              "      <td>15</td>\n",
              "      <td>Yes</td>\n",
              "      <td>Yes</td>\n",
              "      <td>DSL</td>\n",
              "      <td>No</td>\n",
              "      <td>No</td>\n",
              "      <td>No</td>\n",
              "      <td>No</td>\n",
              "      <td>No</td>\n",
              "      <td>No</td>\n",
              "      <td>Month-to-month</td>\n",
              "      <td>Yes</td>\n",
              "      <td>Electronic check</td>\n",
              "      <td>51.10</td>\n",
              "      <td>711.15</td>\n",
              "      <td>No</td>\n",
              "    </tr>\n",
              "    <tr>\n",
              "      <th>2</th>\n",
              "      <td>Male</td>\n",
              "      <td>1</td>\n",
              "      <td>Yes</td>\n",
              "      <td>No</td>\n",
              "      <td>2</td>\n",
              "      <td>Yes</td>\n",
              "      <td>Yes</td>\n",
              "      <td>Fiber optic</td>\n",
              "      <td>No</td>\n",
              "      <td>No</td>\n",
              "      <td>No</td>\n",
              "      <td>No</td>\n",
              "      <td>Yes</td>\n",
              "      <td>No</td>\n",
              "      <td>Month-to-month</td>\n",
              "      <td>Yes</td>\n",
              "      <td>Mailed check</td>\n",
              "      <td>86.85</td>\n",
              "      <td>156.35</td>\n",
              "      <td>Yes</td>\n",
              "    </tr>\n",
              "    <tr>\n",
              "      <th>3</th>\n",
              "      <td>Male</td>\n",
              "      <td>0</td>\n",
              "      <td>No</td>\n",
              "      <td>Yes</td>\n",
              "      <td>48</td>\n",
              "      <td>Yes</td>\n",
              "      <td>Yes</td>\n",
              "      <td>DSL</td>\n",
              "      <td>Yes</td>\n",
              "      <td>Yes</td>\n",
              "      <td>Yes</td>\n",
              "      <td>No</td>\n",
              "      <td>No</td>\n",
              "      <td>No</td>\n",
              "      <td>One year</td>\n",
              "      <td>Yes</td>\n",
              "      <td>Bank transfer (automatic)</td>\n",
              "      <td>64.40</td>\n",
              "      <td>3035.35</td>\n",
              "      <td>No</td>\n",
              "    </tr>\n",
              "    <tr>\n",
              "      <th>4</th>\n",
              "      <td>Male</td>\n",
              "      <td>0</td>\n",
              "      <td>No</td>\n",
              "      <td>No</td>\n",
              "      <td>24</td>\n",
              "      <td>Yes</td>\n",
              "      <td>Yes</td>\n",
              "      <td>Fiber optic</td>\n",
              "      <td>No</td>\n",
              "      <td>No</td>\n",
              "      <td>No</td>\n",
              "      <td>No</td>\n",
              "      <td>Yes</td>\n",
              "      <td>Yes</td>\n",
              "      <td>Month-to-month</td>\n",
              "      <td>Yes</td>\n",
              "      <td>Electronic check</td>\n",
              "      <td>94.10</td>\n",
              "      <td>2322.85</td>\n",
              "      <td>No</td>\n",
              "    </tr>\n",
              "  </tbody>\n",
              "</table>\n",
              "</div>"
            ],
            "text/plain": [
              "   gender  SeniorCitizen Partner  ... MonthlyCharges  TotalCharges Churn\n",
              "0    Male              0      No  ...          53.75       3196.00    No\n",
              "1  Female              0     Yes  ...          51.10        711.15    No\n",
              "2    Male              1     Yes  ...          86.85        156.35   Yes\n",
              "3    Male              0      No  ...          64.40       3035.35    No\n",
              "4    Male              0      No  ...          94.10       2322.85    No\n",
              "\n",
              "[5 rows x 20 columns]"
            ]
          },
          "metadata": {},
          "execution_count": 9
        }
      ]
    },
    {
      "cell_type": "code",
      "metadata": {
        "colab": {
          "base_uri": "https://localhost:8080/"
        },
        "id": "VLCR4KMhnmvv",
        "outputId": "aeec8d63-3245-47f9-cb4e-5dd08576cf19"
      },
      "source": [
        "df.Churn.value_counts()"
      ],
      "execution_count": null,
      "outputs": [
        {
          "output_type": "execute_result",
          "data": {
            "text/plain": [
              "No     5166\n",
              "Yes    1860\n",
              "Name: Churn, dtype: int64"
            ]
          },
          "metadata": {},
          "execution_count": 13
        }
      ]
    },
    {
      "cell_type": "code",
      "metadata": {
        "id": "7TwhcFFqmfUo"
      },
      "source": [
        "cater = df.select_dtypes(\"object\").drop(\"Churn\", axis=1).columns"
      ],
      "execution_count": null,
      "outputs": []
    },
    {
      "cell_type": "code",
      "metadata": {
        "id": "TczmAbrMnMrj"
      },
      "source": [
        "df[cater] = df[cater].astype(\"category\")"
      ],
      "execution_count": null,
      "outputs": []
    },
    {
      "cell_type": "code",
      "metadata": {
        "id": "HSls-_yZn202"
      },
      "source": [
        "x = df.drop(\"Churn\", axis=1)\n",
        "y = df.Churn"
      ],
      "execution_count": null,
      "outputs": []
    },
    {
      "cell_type": "code",
      "metadata": {
        "id": "cGRUIi1lny6W"
      },
      "source": [
        "x_train, x_val, y_train, y_val = train_test_split(x, y, test_size=0.2, random_state=19)"
      ],
      "execution_count": null,
      "outputs": []
    },
    {
      "cell_type": "markdown",
      "metadata": {
        "id": "2-4L8PhlotMR"
      },
      "source": [
        "# FEATURE SELECTION"
      ]
    },
    {
      "cell_type": "code",
      "metadata": {
        "id": "zxtL2lyQojUX"
      },
      "source": [
        "lg = LGBMClassifier(is_unbalance=True, learning_rate=0.01, random_state=10)"
      ],
      "execution_count": null,
      "outputs": []
    },
    {
      "cell_type": "code",
      "metadata": {
        "id": "ipRaEFI0o5Vt"
      },
      "source": [
        "#feature selection\n",
        "Feature_Selector = BorutaShap(model=lg,\n",
        "                              importance_measure='shap', \n",
        "                              classification=True)#set True jika classification"
      ],
      "execution_count": null,
      "outputs": []
    },
    {
      "cell_type": "code",
      "metadata": {
        "colab": {
          "base_uri": "https://localhost:8080/",
          "height": 176,
          "referenced_widgets": [
            "c762a926b247495c9d06e07e3320ad81",
            "0777c275b16749b49901d247d29c6474",
            "ed43cb1b316f40848b7077011ebb2256",
            "5eec334f62a04b18821ff0c8e2efd08a",
            "a5921f090df24644a56a49beee9439f2",
            "ba93b0b494fc4891b2b3c3f0954d04ef",
            "745eb9c0d5a44da883be0988c597aa5c",
            "fc4d1c92166740cab4529b06d3551e69",
            "18710ef136c94d80b42404d73a1acc00",
            "43b32f62b81a43ec8641887f2c16dde7",
            "402200592c214103b961deb69f50b6d6"
          ]
        },
        "id": "4cmaDpRCpYOX",
        "outputId": "3b025ab7-497e-453b-de0d-d8d36768a513"
      },
      "source": [
        "Feature_Selector.fit(X=x_train, y=y_train, n_trials=50, random_state=0)"
      ],
      "execution_count": null,
      "outputs": [
        {
          "output_type": "display_data",
          "data": {
            "application/vnd.jupyter.widget-view+json": {
              "model_id": "c762a926b247495c9d06e07e3320ad81",
              "version_minor": 0,
              "version_major": 2
            },
            "text/plain": [
              "  0%|          | 0/50 [00:00<?, ?it/s]"
            ]
          },
          "metadata": {}
        },
        {
          "output_type": "stream",
          "name": "stdout",
          "text": [
            "10 attributes confirmed important: ['OnlineSecurity', 'InternetService', 'PaperlessBilling', 'StreamingMovies', 'MonthlyCharges', 'tenure', 'PaymentMethod', 'TechSupport', 'Contract', 'TotalCharges']\n",
            "8 attributes confirmed unimportant: ['DeviceProtection', 'Partner', 'MultipleLines', 'Dependents', 'gender', 'StreamingTV', 'PhoneService', 'SeniorCitizen']\n",
            "1 tentative attributes remains: ['OnlineBackup']\n"
          ]
        }
      ]
    },
    {
      "cell_type": "code",
      "metadata": {
        "colab": {
          "base_uri": "https://localhost:8080/",
          "height": 166
        },
        "id": "Kite8J76qSM7",
        "outputId": "c4c9b00c-4e9c-4455-9c00-43ef9b62f2f7"
      },
      "source": [
        "Feature_Selector.plot(which_features='all', figsize=(24,12))"
      ],
      "execution_count": null,
      "outputs": [
        {
          "output_type": "display_data",
          "data": {
            "image/png": "[encoded data removed]",
            "text/plain": [
              "<Figure size 1728x864 with 1 Axes>"
            ]
          },
          "metadata": {
            "needs_background": "light"
          }
        }
      ]
    },
    {
      "cell_type": "code",
      "metadata": {
        "id": "ePsp993oqZRk"
      },
      "source": [
        "col = Feature_Selector.Subset().columns.to_list()"
      ],
      "execution_count": null,
      "outputs": []
    },
    {
      "cell_type": "code",
      "metadata": {
        "colab": {
          "base_uri": "https://localhost:8080/"
        },
        "id": "H8bVkjbsqbxt",
        "outputId": "acc35fa2-86c3-4166-bb0f-1ca52a4466f2"
      },
      "source": [
        "col"
      ],
      "execution_count": null,
      "outputs": [
        {
          "output_type": "execute_result",
          "data": {
            "text/plain": [
              "['OnlineSecurity',\n",
              " 'InternetService',\n",
              " 'PaperlessBilling',\n",
              " 'StreamingMovies',\n",
              " 'MonthlyCharges',\n",
              " 'tenure',\n",
              " 'PaymentMethod',\n",
              " 'TechSupport',\n",
              " 'Contract',\n",
              " 'TotalCharges']"
            ]
          },
          "metadata": {},
          "execution_count": 42
        }
      ]
    },
    {
      "cell_type": "code",
      "metadata": {
        "id": "4srqHtuDxMF0"
      },
      "source": [
        "acc_val = []\n",
        "acc_train = []\n",
        "roc_auc = []"
      ],
      "execution_count": null,
      "outputs": []
    },
    {
      "cell_type": "markdown",
      "metadata": {
        "id": "O34FHhn3qk35"
      },
      "source": [
        "#MODEL-1"
      ]
    },
    {
      "cell_type": "code",
      "metadata": {
        "id": "DDXeeJCrqkih"
      },
      "source": [
        "x_train_1 = x_train[col]\n",
        "x_val_1 = x_val[col]"
      ],
      "execution_count": null,
      "outputs": []
    },
    {
      "cell_type": "code",
      "metadata": {
        "colab": {
          "base_uri": "https://localhost:8080/"
        },
        "id": "naWEnPRRrDWr",
        "outputId": "708e4a8f-cd1a-4cf2-8c17-8c37b3975f1a"
      },
      "source": [
        "cater = x_train_1.select_dtypes(exclude=\"number\").columns\n",
        "cater"
      ],
      "execution_count": null,
      "outputs": [
        {
          "output_type": "execute_result",
          "data": {
            "text/plain": [
              "Index(['OnlineSecurity', 'InternetService', 'PaperlessBilling',\n",
              "       'StreamingMovies', 'PaymentMethod', 'TechSupport', 'Contract'],\n",
              "      dtype='object')"
            ]
          },
          "metadata": {},
          "execution_count": 86
        }
      ]
    },
    {
      "cell_type": "code",
      "metadata": {
        "id": "w1MutkvGq2gC"
      },
      "source": [
        "ft = {}\n",
        "for i in cater:\n",
        "    ft[i] = LabelEncoder()\n",
        "    x_train_1[i] = ft[i].fit_transform(x_train_1[i]) \n",
        "    x_val_1[i] = ft[i].transform(x_val_1[i])"
      ],
      "execution_count": null,
      "outputs": []
    },
    {
      "cell_type": "code",
      "metadata": {
        "colab": {
          "base_uri": "https://localhost:8080/"
        },
        "id": "SrjYTejVsU1-",
        "outputId": "1a5dc1af-f4f6-4358-88c2-cd95e96ff754"
      },
      "source": [
        "x_train_1.dtypes"
      ],
      "execution_count": null,
      "outputs": [
        {
          "output_type": "execute_result",
          "data": {
            "text/plain": [
              "OnlineSecurity        int64\n",
              "InternetService       int64\n",
              "PaperlessBilling      int64\n",
              "StreamingMovies       int64\n",
              "MonthlyCharges      float64\n",
              "tenure                int64\n",
              "PaymentMethod         int64\n",
              "TechSupport           int64\n",
              "Contract              int64\n",
              "TotalCharges        float64\n",
              "dtype: object"
            ]
          },
          "metadata": {},
          "execution_count": 89
        }
      ]
    },
    {
      "cell_type": "code",
      "metadata": {
        "id": "i8VtgiFVtRnm"
      },
      "source": [
        "XGB = XGBClassifier(learning_rate=0.01,scale_post_weight=2, random_state=10)\n",
        "GBT = GradientBoostingClassifier(learning_rate=0.01, random_state=20)\n",
        "HGBT = HistGradientBoostingClassifier(learning_rate=0.01, random_state=30)\n",
        "ADA = AdaBoostClassifier(learning_rate=0.01, random_state=40)\n",
        "EXT = ExtraTreeClassifier(random_state=50)\n",
        "RF = RandomForestClassifier(random_state=60)\n",
        "DT = DecisionTreeClassifier(random_state=70)"
      ],
      "execution_count": null,
      "outputs": []
    },
    {
      "cell_type": "code",
      "metadata": {
        "id": "ZJzmHTgqwj41"
      },
      "source": [
        "def score_1(model,x_train, y_train, x_val, y_val):\n",
        "    #fit model\n",
        "    model.fit(x_train,y_train)\n",
        " \n",
        "    #score train dan val\n",
        "    acc_train.append(model.score(x_train, y_train)) \n",
        "    acc_val.append(model.score(x_val, y_val)) \n",
        "        \n",
        "    #roc auc score\n",
        "    pred = model.predict_proba(x_val)[:,-1]\n",
        "    auc = roc_auc_score(y_val, pred) \n",
        "    roc_auc.append(auc) \n",
        "    \n",
        "    return model"
      ],
      "execution_count": null,
      "outputs": []
    },
    {
      "cell_type": "code",
      "metadata": {
        "id": "T3zIXINUwoPb",
        "colab": {
          "base_uri": "https://localhost:8080/"
        },
        "outputId": "34f051e2-6c3e-4413-ced7-19d7f70fbbf1"
      },
      "source": [
        "for i in [XGB,ADA,GBT,HGBT,DT,RF,EXT]:\n",
        "    print(30*\"-\")\n",
        "    print(i)\n",
        "    score_1(i, x_train_1, y_train, x_val_1, y_val)\n",
        "    print(10*\"->\" + \" DONE\")"
      ],
      "execution_count": null,
      "outputs": [
        {
          "output_type": "stream",
          "name": "stdout",
          "text": [
            "------------------------------\n",
            "XGBClassifier(learning_rate=0.01, random_state=10, scale_post_weight=2)\n",
            "->->->->->->->->->-> DONE\n",
            "------------------------------\n",
            "AdaBoostClassifier(learning_rate=0.01, random_state=40)\n",
            "->->->->->->->->->-> DONE\n",
            "------------------------------\n",
            "GradientBoostingClassifier(learning_rate=0.01, random_state=20)\n",
            "->->->->->->->->->-> DONE\n",
            "------------------------------\n",
            "HistGradientBoostingClassifier(learning_rate=0.01, random_state=30)\n",
            "->->->->->->->->->-> DONE\n",
            "------------------------------\n",
            "DecisionTreeClassifier(random_state=70)\n",
            "->->->->->->->->->-> DONE\n",
            "------------------------------\n",
            "RandomForestClassifier(random_state=60)\n",
            "->->->->->->->->->-> DONE\n",
            "------------------------------\n",
            "ExtraTreeClassifier(random_state=50)\n",
            "->->->->->->->->->-> DONE\n"
          ]
        }
      ]
    },
    {
      "cell_type": "markdown",
      "metadata": {
        "id": "_WIGqNl2yIuL"
      },
      "source": [
        "#MODEL-2"
      ]
    },
    {
      "cell_type": "code",
      "metadata": {
        "id": "oyUJJ6I0yQ2n"
      },
      "source": [
        "x_train_2 = x_train[col]\n",
        "x_val_2 = x_val[col]"
      ],
      "execution_count": null,
      "outputs": []
    },
    {
      "cell_type": "code",
      "metadata": {
        "colab": {
          "base_uri": "https://localhost:8080/"
        },
        "id": "OTbYsMa5yWuw",
        "outputId": "14bd262d-b97a-4faa-a1e9-8fce4de67842"
      },
      "source": [
        "x_train_2.dtypes"
      ],
      "execution_count": null,
      "outputs": [
        {
          "output_type": "execute_result",
          "data": {
            "text/plain": [
              "OnlineSecurity      category\n",
              "InternetService     category\n",
              "PaperlessBilling    category\n",
              "StreamingMovies     category\n",
              "MonthlyCharges       float64\n",
              "tenure                 int64\n",
              "PaymentMethod       category\n",
              "TechSupport         category\n",
              "Contract            category\n",
              "TotalCharges         float64\n",
              "dtype: object"
            ]
          },
          "metadata": {},
          "execution_count": 94
        }
      ]
    },
    {
      "cell_type": "code",
      "metadata": {
        "colab": {
          "base_uri": "https://localhost:8080/"
        },
        "id": "6GrZ6mTIyc4z",
        "outputId": "f8557fb9-9c47-41eb-de6b-36fc618c28b2"
      },
      "source": [
        "cater"
      ],
      "execution_count": null,
      "outputs": [
        {
          "output_type": "execute_result",
          "data": {
            "text/plain": [
              "Index(['OnlineSecurity', 'InternetService', 'PaperlessBilling',\n",
              "       'StreamingMovies', 'PaymentMethod', 'TechSupport', 'Contract'],\n",
              "      dtype='object')"
            ]
          },
          "metadata": {},
          "execution_count": 95
        }
      ]
    },
    {
      "cell_type": "code",
      "metadata": {
        "id": "LqaM1A0ByrHj"
      },
      "source": [
        "CB = CatBoostClassifier(learning_rate=0.01, scale_pos_weight=2, random_state=12)\n",
        "LGBM = LGBMClassifier(learning_rate=0.01, is_unbalance=True, random_state=14)"
      ],
      "execution_count": null,
      "outputs": []
    },
    {
      "cell_type": "code",
      "metadata": {
        "id": "j1aZ2lcuyKbF"
      },
      "source": [
        "def score_2(model,x_train, y_train, x_val, y_val):\n",
        "       \n",
        "    #lgbm\n",
        "    if model == LGBM:\n",
        "       #fit model\n",
        "       model.fit(x_train,y_train,verbose=False)\n",
        " \n",
        "       #accuracy train dan val\n",
        "       acc_train.append(model.score(x_train, y_train))\n",
        "       acc_val.append(model.score(x_val, y_val))\n",
        "     \n",
        "       #roc_auc\n",
        "       pred = model.predict_proba(x_val)[:,-1]\n",
        "       auc = roc_auc_score(y_val, pred)\n",
        "       roc_auc.append(auc)\n",
        " \n",
        "   #catboost\n",
        "    else:         \n",
        "       model.fit(x_train,y_train,cat_features=cater.to_list(),verbose=False)\n",
        " \n",
        "       #accuracy train dan val\n",
        "       acc_train.append(model.score(x_train, y_train))\n",
        "       acc_val.append(model.score(x_val, y_val))\n",
        "          \n",
        "       #roc_auc\n",
        "       pred = model.predict_proba(x_val)[:,-1]\n",
        "       auc = roc_auc_score(y_val, pred) \n",
        "       roc_auc.append(auc)\n",
        "\n",
        "    return model"
      ],
      "execution_count": null,
      "outputs": []
    },
    {
      "cell_type": "code",
      "metadata": {
        "colab": {
          "base_uri": "https://localhost:8080/"
        },
        "id": "NnO6uPwRyoV6",
        "outputId": "2b94e1c1-428c-48cb-b75c-ad054451c17e"
      },
      "source": [
        "for i in [CB,LGBM]:\n",
        "    print(30*\"-\")\n",
        "    print(i)\n",
        "    score_2(i, x_train_2, y_train, x_val_2, y_val)\n",
        "    print(10*\"->\" + \" DONE\")"
      ],
      "execution_count": null,
      "outputs": [
        {
          "output_type": "stream",
          "name": "stdout",
          "text": [
            "------------------------------\n",
            "<catboost.core.CatBoostClassifier object at 0x7f03cdbe2a10>\n",
            "->->->->->->->->->-> DONE\n",
            "------------------------------\n",
            "LGBMClassifier(is_unbalance=True, learning_rate=0.01, random_state=14)\n",
            "->->->->->->->->->-> DONE\n"
          ]
        }
      ]
    },
    {
      "cell_type": "markdown",
      "metadata": {
        "id": "-Kbs2yvi0Sk8"
      },
      "source": [
        "#MODEL-3"
      ]
    },
    {
      "cell_type": "code",
      "metadata": {
        "id": "sO8k7Bpi0VTL"
      },
      "source": [
        "x_train_3 = x_train[col]\n",
        "x_val_3  = x_val[col]"
      ],
      "execution_count": null,
      "outputs": []
    },
    {
      "cell_type": "code",
      "metadata": {
        "colab": {
          "base_uri": "https://localhost:8080/"
        },
        "id": "Fx_EgFE8utqt",
        "outputId": "27dd6298-4a31-4f69-9e59-7d85e74cbb4b"
      },
      "source": [
        "x_train_3.shape, x_val_3.shape"
      ],
      "execution_count": null,
      "outputs": [
        {
          "output_type": "execute_result",
          "data": {
            "text/plain": [
              "((5620, 10), (1406, 10))"
            ]
          },
          "metadata": {},
          "execution_count": 100
        }
      ]
    },
    {
      "cell_type": "code",
      "metadata": {
        "id": "GkINpnOtvVF5"
      },
      "source": [
        "x_train_3 = pd.get_dummies(x_train_3)\n",
        "x_val_3 = pd.get_dummies(x_val_3)"
      ],
      "execution_count": null,
      "outputs": []
    },
    {
      "cell_type": "code",
      "metadata": {
        "id": "p_PZbQPg1P5n"
      },
      "source": [
        "rs = RobustScaler()\n",
        "x_train_3.iloc[:,:3] = rs.fit_transform(x_train_3.iloc[:,:3])\n",
        "x_val_3.iloc[:,:3] = rs.transform(x_val_3.iloc[:,:3])"
      ],
      "execution_count": null,
      "outputs": []
    },
    {
      "cell_type": "code",
      "metadata": {
        "colab": {
          "base_uri": "https://localhost:8080/",
          "height": 473
        },
        "id": "dZH3MpVrvec3",
        "outputId": "80beb4b0-bac3-4d0b-b04d-a55eaf47250b"
      },
      "source": [
        "x_train_3"
      ],
      "execution_count": null,
      "outputs": [
        {
          "output_type": "execute_result",
          "data": {
            "text/html": [
              "<div>\n",
              "<style scoped>\n",
              "    .dataframe tbody tr th:only-of-type {\n",
              "        vertical-align: middle;\n",
              "    }\n",
              "\n",
              "    .dataframe tbody tr th {\n",
              "        vertical-align: top;\n",
              "    }\n",
              "\n",
              "    .dataframe thead th {\n",
              "        text-align: right;\n",
              "    }\n",
              "</style>\n",
              "<table border=\"1\" class=\"dataframe\">\n",
              "  <thead>\n",
              "    <tr style=\"text-align: right;\">\n",
              "      <th></th>\n",
              "      <th>MonthlyCharges</th>\n",
              "      <th>tenure</th>\n",
              "      <th>TotalCharges</th>\n",
              "      <th>OnlineSecurity_No</th>\n",
              "      <th>OnlineSecurity_No internet service</th>\n",
              "      <th>OnlineSecurity_Yes</th>\n",
              "      <th>InternetService_DSL</th>\n",
              "      <th>InternetService_Fiber optic</th>\n",
              "      <th>InternetService_No</th>\n",
              "      <th>PaperlessBilling_No</th>\n",
              "      <th>PaperlessBilling_Yes</th>\n",
              "      <th>StreamingMovies_No</th>\n",
              "      <th>StreamingMovies_No internet service</th>\n",
              "      <th>StreamingMovies_Yes</th>\n",
              "      <th>PaymentMethod_Bank transfer (automatic)</th>\n",
              "      <th>PaymentMethod_Credit card (automatic)</th>\n",
              "      <th>PaymentMethod_Electronic check</th>\n",
              "      <th>PaymentMethod_Mailed check</th>\n",
              "      <th>TechSupport_No</th>\n",
              "      <th>TechSupport_No internet service</th>\n",
              "      <th>TechSupport_Yes</th>\n",
              "      <th>Contract_Month-to-month</th>\n",
              "      <th>Contract_One year</th>\n",
              "      <th>Contract_Two year</th>\n",
              "    </tr>\n",
              "  </thead>\n",
              "  <tbody>\n",
              "    <tr>\n",
              "      <th>3884</th>\n",
              "      <td>-0.384191</td>\n",
              "      <td>-0.489362</td>\n",
              "      <td>-0.319110</td>\n",
              "      <td>1</td>\n",
              "      <td>0</td>\n",
              "      <td>0</td>\n",
              "      <td>1</td>\n",
              "      <td>0</td>\n",
              "      <td>0</td>\n",
              "      <td>0</td>\n",
              "      <td>1</td>\n",
              "      <td>1</td>\n",
              "      <td>0</td>\n",
              "      <td>0</td>\n",
              "      <td>0</td>\n",
              "      <td>1</td>\n",
              "      <td>0</td>\n",
              "      <td>0</td>\n",
              "      <td>0</td>\n",
              "      <td>0</td>\n",
              "      <td>1</td>\n",
              "      <td>1</td>\n",
              "      <td>0</td>\n",
              "      <td>0</td>\n",
              "    </tr>\n",
              "    <tr>\n",
              "      <th>4786</th>\n",
              "      <td>0.271140</td>\n",
              "      <td>-0.319149</td>\n",
              "      <td>-0.076190</td>\n",
              "      <td>1</td>\n",
              "      <td>0</td>\n",
              "      <td>0</td>\n",
              "      <td>0</td>\n",
              "      <td>1</td>\n",
              "      <td>0</td>\n",
              "      <td>0</td>\n",
              "      <td>1</td>\n",
              "      <td>0</td>\n",
              "      <td>0</td>\n",
              "      <td>1</td>\n",
              "      <td>0</td>\n",
              "      <td>0</td>\n",
              "      <td>1</td>\n",
              "      <td>0</td>\n",
              "      <td>1</td>\n",
              "      <td>0</td>\n",
              "      <td>0</td>\n",
              "      <td>1</td>\n",
              "      <td>0</td>\n",
              "      <td>0</td>\n",
              "    </tr>\n",
              "    <tr>\n",
              "      <th>2549</th>\n",
              "      <td>0.431066</td>\n",
              "      <td>-0.063830</td>\n",
              "      <td>0.288955</td>\n",
              "      <td>1</td>\n",
              "      <td>0</td>\n",
              "      <td>0</td>\n",
              "      <td>0</td>\n",
              "      <td>1</td>\n",
              "      <td>0</td>\n",
              "      <td>0</td>\n",
              "      <td>1</td>\n",
              "      <td>0</td>\n",
              "      <td>0</td>\n",
              "      <td>1</td>\n",
              "      <td>0</td>\n",
              "      <td>0</td>\n",
              "      <td>1</td>\n",
              "      <td>0</td>\n",
              "      <td>1</td>\n",
              "      <td>0</td>\n",
              "      <td>0</td>\n",
              "      <td>1</td>\n",
              "      <td>0</td>\n",
              "      <td>0</td>\n",
              "    </tr>\n",
              "    <tr>\n",
              "      <th>945</th>\n",
              "      <td>-0.927390</td>\n",
              "      <td>0.702128</td>\n",
              "      <td>-0.045153</td>\n",
              "      <td>0</td>\n",
              "      <td>1</td>\n",
              "      <td>0</td>\n",
              "      <td>0</td>\n",
              "      <td>0</td>\n",
              "      <td>1</td>\n",
              "      <td>1</td>\n",
              "      <td>0</td>\n",
              "      <td>0</td>\n",
              "      <td>1</td>\n",
              "      <td>0</td>\n",
              "      <td>1</td>\n",
              "      <td>0</td>\n",
              "      <td>0</td>\n",
              "      <td>0</td>\n",
              "      <td>0</td>\n",
              "      <td>1</td>\n",
              "      <td>0</td>\n",
              "      <td>0</td>\n",
              "      <td>1</td>\n",
              "      <td>0</td>\n",
              "    </tr>\n",
              "    <tr>\n",
              "      <th>565</th>\n",
              "      <td>0.064338</td>\n",
              "      <td>0.042553</td>\n",
              "      <td>0.240635</td>\n",
              "      <td>1</td>\n",
              "      <td>0</td>\n",
              "      <td>0</td>\n",
              "      <td>0</td>\n",
              "      <td>1</td>\n",
              "      <td>0</td>\n",
              "      <td>0</td>\n",
              "      <td>1</td>\n",
              "      <td>1</td>\n",
              "      <td>0</td>\n",
              "      <td>0</td>\n",
              "      <td>0</td>\n",
              "      <td>0</td>\n",
              "      <td>1</td>\n",
              "      <td>0</td>\n",
              "      <td>1</td>\n",
              "      <td>0</td>\n",
              "      <td>0</td>\n",
              "      <td>1</td>\n",
              "      <td>0</td>\n",
              "      <td>0</td>\n",
              "    </tr>\n",
              "    <tr>\n",
              "      <th>...</th>\n",
              "      <td>...</td>\n",
              "      <td>...</td>\n",
              "      <td>...</td>\n",
              "      <td>...</td>\n",
              "      <td>...</td>\n",
              "      <td>...</td>\n",
              "      <td>...</td>\n",
              "      <td>...</td>\n",
              "      <td>...</td>\n",
              "      <td>...</td>\n",
              "      <td>...</td>\n",
              "      <td>...</td>\n",
              "      <td>...</td>\n",
              "      <td>...</td>\n",
              "      <td>...</td>\n",
              "      <td>...</td>\n",
              "      <td>...</td>\n",
              "      <td>...</td>\n",
              "      <td>...</td>\n",
              "      <td>...</td>\n",
              "      <td>...</td>\n",
              "      <td>...</td>\n",
              "      <td>...</td>\n",
              "      <td>...</td>\n",
              "    </tr>\n",
              "    <tr>\n",
              "      <th>5032</th>\n",
              "      <td>0.812500</td>\n",
              "      <td>0.893617</td>\n",
              "      <td>1.969764</td>\n",
              "      <td>0</td>\n",
              "      <td>0</td>\n",
              "      <td>1</td>\n",
              "      <td>0</td>\n",
              "      <td>1</td>\n",
              "      <td>0</td>\n",
              "      <td>1</td>\n",
              "      <td>0</td>\n",
              "      <td>0</td>\n",
              "      <td>0</td>\n",
              "      <td>1</td>\n",
              "      <td>1</td>\n",
              "      <td>0</td>\n",
              "      <td>0</td>\n",
              "      <td>0</td>\n",
              "      <td>0</td>\n",
              "      <td>0</td>\n",
              "      <td>1</td>\n",
              "      <td>0</td>\n",
              "      <td>0</td>\n",
              "      <td>1</td>\n",
              "    </tr>\n",
              "    <tr>\n",
              "      <th>1378</th>\n",
              "      <td>0.164522</td>\n",
              "      <td>-0.425532</td>\n",
              "      <td>-0.216666</td>\n",
              "      <td>1</td>\n",
              "      <td>0</td>\n",
              "      <td>0</td>\n",
              "      <td>0</td>\n",
              "      <td>1</td>\n",
              "      <td>0</td>\n",
              "      <td>0</td>\n",
              "      <td>1</td>\n",
              "      <td>1</td>\n",
              "      <td>0</td>\n",
              "      <td>0</td>\n",
              "      <td>1</td>\n",
              "      <td>0</td>\n",
              "      <td>0</td>\n",
              "      <td>0</td>\n",
              "      <td>1</td>\n",
              "      <td>0</td>\n",
              "      <td>0</td>\n",
              "      <td>1</td>\n",
              "      <td>0</td>\n",
              "      <td>0</td>\n",
              "    </tr>\n",
              "    <tr>\n",
              "      <th>757</th>\n",
              "      <td>0.035846</td>\n",
              "      <td>0.808511</td>\n",
              "      <td>1.056057</td>\n",
              "      <td>0</td>\n",
              "      <td>0</td>\n",
              "      <td>1</td>\n",
              "      <td>1</td>\n",
              "      <td>0</td>\n",
              "      <td>0</td>\n",
              "      <td>0</td>\n",
              "      <td>1</td>\n",
              "      <td>0</td>\n",
              "      <td>0</td>\n",
              "      <td>1</td>\n",
              "      <td>1</td>\n",
              "      <td>0</td>\n",
              "      <td>0</td>\n",
              "      <td>0</td>\n",
              "      <td>0</td>\n",
              "      <td>0</td>\n",
              "      <td>1</td>\n",
              "      <td>0</td>\n",
              "      <td>1</td>\n",
              "      <td>0</td>\n",
              "    </tr>\n",
              "    <tr>\n",
              "      <th>2670</th>\n",
              "      <td>-0.931066</td>\n",
              "      <td>-0.404255</td>\n",
              "      <td>-0.349810</td>\n",
              "      <td>0</td>\n",
              "      <td>1</td>\n",
              "      <td>0</td>\n",
              "      <td>0</td>\n",
              "      <td>0</td>\n",
              "      <td>1</td>\n",
              "      <td>1</td>\n",
              "      <td>0</td>\n",
              "      <td>0</td>\n",
              "      <td>1</td>\n",
              "      <td>0</td>\n",
              "      <td>0</td>\n",
              "      <td>1</td>\n",
              "      <td>0</td>\n",
              "      <td>0</td>\n",
              "      <td>0</td>\n",
              "      <td>1</td>\n",
              "      <td>0</td>\n",
              "      <td>1</td>\n",
              "      <td>0</td>\n",
              "      <td>0</td>\n",
              "    </tr>\n",
              "    <tr>\n",
              "      <th>108</th>\n",
              "      <td>-0.806985</td>\n",
              "      <td>0.765957</td>\n",
              "      <td>0.088211</td>\n",
              "      <td>0</td>\n",
              "      <td>1</td>\n",
              "      <td>0</td>\n",
              "      <td>0</td>\n",
              "      <td>0</td>\n",
              "      <td>1</td>\n",
              "      <td>1</td>\n",
              "      <td>0</td>\n",
              "      <td>0</td>\n",
              "      <td>1</td>\n",
              "      <td>0</td>\n",
              "      <td>1</td>\n",
              "      <td>0</td>\n",
              "      <td>0</td>\n",
              "      <td>0</td>\n",
              "      <td>0</td>\n",
              "      <td>1</td>\n",
              "      <td>0</td>\n",
              "      <td>0</td>\n",
              "      <td>0</td>\n",
              "      <td>1</td>\n",
              "    </tr>\n",
              "  </tbody>\n",
              "</table>\n",
              "<p>5620 rows × 24 columns</p>\n",
              "</div>"
            ],
            "text/plain": [
              "      MonthlyCharges    tenure  ...  Contract_One year  Contract_Two year\n",
              "3884       -0.384191 -0.489362  ...                  0                  0\n",
              "4786        0.271140 -0.319149  ...                  0                  0\n",
              "2549        0.431066 -0.063830  ...                  0                  0\n",
              "945        -0.927390  0.702128  ...                  1                  0\n",
              "565         0.064338  0.042553  ...                  0                  0\n",
              "...              ...       ...  ...                ...                ...\n",
              "5032        0.812500  0.893617  ...                  0                  1\n",
              "1378        0.164522 -0.425532  ...                  0                  0\n",
              "757         0.035846  0.808511  ...                  1                  0\n",
              "2670       -0.931066 -0.404255  ...                  0                  0\n",
              "108        -0.806985  0.765957  ...                  0                  1\n",
              "\n",
              "[5620 rows x 24 columns]"
            ]
          },
          "metadata": {},
          "execution_count": 103
        }
      ]
    },
    {
      "cell_type": "code",
      "metadata": {
        "id": "IhS5ds1P2Pwl"
      },
      "source": [
        "LR = LogisticRegression(random_state=14)\n",
        "KNN = KNeighborsClassifier() \n",
        "SVM = SVC(kernel=\"linear\",random_state=73,probability=True)"
      ],
      "execution_count": null,
      "outputs": []
    },
    {
      "cell_type": "code",
      "metadata": {
        "id": "cr5xmmiH3a1K"
      },
      "source": [
        "def score_3(model,x_train, y_train, x_val, y_val):\n",
        "    #fit model\n",
        "    model.fit(x_train,y_train)\n",
        " \n",
        "    #score train dan val\n",
        "    acc_train.append(model.score(x_train, y_train)) \n",
        "    acc_val.append(model.score(x_val, y_val)) \n",
        "        \n",
        "    #roc auc score\n",
        "    pred = model.predict_proba(x_val)[:,-1]\n",
        "    auc = roc_auc_score(y_val, pred) \n",
        "    roc_auc.append(auc) \n",
        "    \n",
        "    return model"
      ],
      "execution_count": null,
      "outputs": []
    },
    {
      "cell_type": "code",
      "metadata": {
        "colab": {
          "base_uri": "https://localhost:8080/"
        },
        "id": "CYaDZnRA20Kd",
        "outputId": "1dc84c32-974c-494d-e3f3-5e261e74739f"
      },
      "source": [
        "for i in [LR,KNN,SVM]:\n",
        "    print(30*\"-\")\n",
        "    print(i)\n",
        "    score_3(i, x_train_3, y_train, x_val_3, y_val)\n",
        "    print(10*\"->\" + \" DONE\")"
      ],
      "execution_count": null,
      "outputs": [
        {
          "output_type": "stream",
          "name": "stdout",
          "text": [
            "------------------------------\n",
            "LogisticRegression(random_state=14)\n",
            "->->->->->->->->->-> DONE\n",
            "------------------------------\n",
            "KNeighborsClassifier()\n",
            "->->->->->->->->->-> DONE\n",
            "------------------------------\n",
            "SVC(kernel='linear', probability=True, random_state=73)\n",
            "->->->->->->->->->-> DONE\n"
          ]
        }
      ]
    },
    {
      "cell_type": "markdown",
      "metadata": {
        "id": "EvbkcJZlyKsV"
      },
      "source": [
        "# MODEL-SELECTION"
      ]
    },
    {
      "cell_type": "code",
      "metadata": {
        "id": "IXsFACplxthe"
      },
      "source": [
        "all_models = pd.DataFrame({\"models\": [\"XGB\", \"ADA\", \"GBT\", \"HGBT\", \"DT\", \"RF\", \"EXT\",\"CB\",\"LGBM\",\"LR\",\"KNN\",\"SVC\"], \n",
        "                          \"Train_accuracy\": acc_train, \n",
        "                          \"Val_accuracy\": acc_val,\n",
        "                          \"Roc_auc_score\": roc_auc})\n",
        "all_models = all_models.set_index(\"models\")"
      ],
      "execution_count": null,
      "outputs": []
    },
    {
      "cell_type": "code",
      "metadata": {
        "colab": {
          "base_uri": "https://localhost:8080/",
          "height": 472
        },
        "id": "UBPDFExwx-t7",
        "outputId": "eb813a2d-6a2c-4d4a-c6ca-297dd200de45"
      },
      "source": [
        "all_models"
      ],
      "execution_count": null,
      "outputs": [
        {
          "output_type": "execute_result",
          "data": {
            "text/html": [
              "<div>\n",
              "<style scoped>\n",
              "    .dataframe tbody tr th:only-of-type {\n",
              "        vertical-align: middle;\n",
              "    }\n",
              "\n",
              "    .dataframe tbody tr th {\n",
              "        vertical-align: top;\n",
              "    }\n",
              "\n",
              "    .dataframe thead th {\n",
              "        text-align: right;\n",
              "    }\n",
              "</style>\n",
              "<table border=\"1\" class=\"dataframe\">\n",
              "  <thead>\n",
              "    <tr style=\"text-align: right;\">\n",
              "      <th></th>\n",
              "      <th>Train_accuracy</th>\n",
              "      <th>Val_accuracy</th>\n",
              "      <th>Roc_auc_score</th>\n",
              "    </tr>\n",
              "    <tr>\n",
              "      <th>models</th>\n",
              "      <th></th>\n",
              "      <th></th>\n",
              "      <th></th>\n",
              "    </tr>\n",
              "  </thead>\n",
              "  <tbody>\n",
              "    <tr>\n",
              "      <th>XGB</th>\n",
              "      <td>0.799110</td>\n",
              "      <td>0.794452</td>\n",
              "      <td>0.817894</td>\n",
              "    </tr>\n",
              "    <tr>\n",
              "      <th>ADA</th>\n",
              "      <td>0.734342</td>\n",
              "      <td>0.738976</td>\n",
              "      <td>0.765923</td>\n",
              "    </tr>\n",
              "    <tr>\n",
              "      <th>GBT</th>\n",
              "      <td>0.772064</td>\n",
              "      <td>0.768848</td>\n",
              "      <td>0.816952</td>\n",
              "    </tr>\n",
              "    <tr>\n",
              "      <th>HGBT</th>\n",
              "      <td>0.803381</td>\n",
              "      <td>0.784495</td>\n",
              "      <td>0.827133</td>\n",
              "    </tr>\n",
              "    <tr>\n",
              "      <th>DT</th>\n",
              "      <td>0.996619</td>\n",
              "      <td>0.727596</td>\n",
              "      <td>0.651116</td>\n",
              "    </tr>\n",
              "    <tr>\n",
              "      <th>RF</th>\n",
              "      <td>0.996619</td>\n",
              "      <td>0.790896</td>\n",
              "      <td>0.806146</td>\n",
              "    </tr>\n",
              "    <tr>\n",
              "      <th>EXT</th>\n",
              "      <td>0.996619</td>\n",
              "      <td>0.748222</td>\n",
              "      <td>0.681230</td>\n",
              "    </tr>\n",
              "    <tr>\n",
              "      <th>CB</th>\n",
              "      <td>0.794128</td>\n",
              "      <td>0.773115</td>\n",
              "      <td>0.835798</td>\n",
              "    </tr>\n",
              "    <tr>\n",
              "      <th>LGBM</th>\n",
              "      <td>0.809786</td>\n",
              "      <td>0.779516</td>\n",
              "      <td>0.830921</td>\n",
              "    </tr>\n",
              "    <tr>\n",
              "      <th>LR</th>\n",
              "      <td>0.803381</td>\n",
              "      <td>0.787340</td>\n",
              "      <td>0.823224</td>\n",
              "    </tr>\n",
              "    <tr>\n",
              "      <th>KNN</th>\n",
              "      <td>0.844662</td>\n",
              "      <td>0.771693</td>\n",
              "      <td>0.783916</td>\n",
              "    </tr>\n",
              "    <tr>\n",
              "      <th>SVC</th>\n",
              "      <td>0.796797</td>\n",
              "      <td>0.767425</td>\n",
              "      <td>0.803665</td>\n",
              "    </tr>\n",
              "  </tbody>\n",
              "</table>\n",
              "</div>"
            ],
            "text/plain": [
              "        Train_accuracy  Val_accuracy  Roc_auc_score\n",
              "models                                             \n",
              "XGB           0.799110      0.794452       0.817894\n",
              "ADA           0.734342      0.738976       0.765923\n",
              "GBT           0.772064      0.768848       0.816952\n",
              "HGBT          0.803381      0.784495       0.827133\n",
              "DT            0.996619      0.727596       0.651116\n",
              "RF            0.996619      0.790896       0.806146\n",
              "EXT           0.996619      0.748222       0.681230\n",
              "CB            0.794128      0.773115       0.835798\n",
              "LGBM          0.809786      0.779516       0.830921\n",
              "LR            0.803381      0.787340       0.823224\n",
              "KNN           0.844662      0.771693       0.783916\n",
              "SVC           0.796797      0.767425       0.803665"
            ]
          },
          "metadata": {},
          "execution_count": 108
        }
      ]
    },
    {
      "cell_type": "code",
      "metadata": {
        "colab": {
          "base_uri": "https://localhost:8080/",
          "height": 159
        },
        "id": "3FArPTuv8UKf",
        "outputId": "f511dcc1-5a86-46f0-dbf4-2ebb8207a50e"
      },
      "source": [
        "all_models[[\"Train_accuracy\", \"Val_accuracy\"]].plot.bar(figsize=(17,8))\n",
        "plt.title(\"accuracy\", size=15)\n",
        "plt.yticks([0.0,0.2,0.4,0.6,0.8,1.0],size=10)\n",
        "plt.xticks(size=10)\n",
        "plt.legend(loc=2,fontsize=7)\n",
        "plt.show()"
      ],
      "execution_count": null,
      "outputs": [
        {
          "output_type": "display_data",
          "data": {
            "image/png": "[encoded data removed]",
            "text/plain": [
              "<Figure size 1224x576 with 1 Axes>"
            ]
          },
          "metadata": {
            "needs_background": "light"
          }
        }
      ]
    },
    {
      "cell_type": "code",
      "metadata": {
        "colab": {
          "base_uri": "https://localhost:8080/",
          "height": 159
        },
        "id": "m5hD70uE9bvc",
        "outputId": "671890c7-40b0-4778-ca80-3c9c0fa202e3"
      },
      "source": [
        "all_models[\"Roc_auc_score\"].sort_values(ascending=False).plot(kind=\"bar\", figsize=(17, 8))\n",
        "plt.title(\"Roc_auc_score\", size=15)\n",
        "plt.yticks([0.0,0.2,0.4,0.6,0.8,1.0],size=10)\n",
        "plt.xticks(size=10)\n",
        "plt.show()"
      ],
      "execution_count": null,
      "outputs": [
        {
          "output_type": "display_data",
          "data": {
            "image/png": "[encoded data removed]",
            "text/plain": [
              "<Figure size 1224x576 with 1 Axes>"
            ]
          },
          "metadata": {
            "needs_background": "light"
          }
        }
      ]
    },
    {
      "cell_type": "code",
      "metadata": {
        "id": "feomg6c_4Xgb",
        "colab": {
          "base_uri": "https://localhost:8080/",
          "height": 147
        },
        "outputId": "fdd8d317-7252-4c11-924f-f013f9499329"
      },
      "source": [
        "#model-1\n",
        "for i in [XGB,ADA,GBT,HGBT,DT,RF,EXT]:\n",
        "    ax = plt.gca() \n",
        "    CalibrationDisplay.from_estimator(i, x_val_1, y_val,ax=ax)\n",
        "\n",
        "plt.title(\"calibration curve\")\n",
        "plt.legend(loc=\"center left\",bbox_to_anchor=[1, 0.5]) \n",
        "plt.show()"
      ],
      "execution_count": null,
      "outputs": [
        {
          "output_type": "display_data",
          "data": {
            "image/png": "[encoded data removed]",
            "text/plain": [
              "<Figure size 432x288 with 1 Axes>"
            ]
          },
          "metadata": {
            "needs_background": "light"
          }
        }
      ]
    },
    {
      "cell_type": "code",
      "metadata": {
        "colab": {
          "base_uri": "https://localhost:8080/",
          "height": 161
        },
        "id": "-aU8GYqS8I8M",
        "outputId": "29a35ad3-3bf2-478f-e0b5-1ea644eb56cf"
      },
      "source": [
        "\n",
        "#model-2\n",
        "for i in [CB,LGBM]:\n",
        "    ax = plt.gca() \n",
        "    CalibrationDisplay.from_estimator(i, x_val_2, y_val,ax=ax)\n",
        "\n",
        "plt.title(\"calibration curve\")\n",
        "plt.legend(loc=\"center left\",bbox_to_anchor=[1, 0.5]) \n",
        "plt.show()"
      ],
      "execution_count": null,
      "outputs": [
        {
          "output_type": "display_data",
          "data": {
            "image/png": "[encoded data removed]",
            "text/plain": [
              "<Figure size 432x288 with 1 Axes>"
            ]
          },
          "metadata": {
            "needs_background": "light"
          }
        }
      ]
    },
    {
      "cell_type": "code",
      "metadata": {
        "colab": {
          "base_uri": "https://localhost:8080/",
          "height": 159
        },
        "id": "ZMIRvJxY70jQ",
        "outputId": "a950f320-8c32-41be-a2f2-4ccc86bb4bc4"
      },
      "source": [
        "#model-3\n",
        "for i in [LR,KNN,SVM]:\n",
        "    ax = plt.gca() \n",
        "    CalibrationDisplay.from_estimator(i, x_val_3, y_val,ax=ax)\n",
        "\n",
        "plt.title(\"calibration curve\")\n",
        "plt.legend(loc=\"center left\",bbox_to_anchor=[1, 0.5]) \n",
        "plt.show()"
      ],
      "execution_count": null,
      "outputs": [
        {
          "output_type": "display_data",
          "data": {
            "image/png": "[encoded data removed]",
            "text/plain": [
              "<Figure size 432x288 with 1 Axes>"
            ]
          },
          "metadata": {
            "needs_background": "light"
          }
        }
      ]
    },
    {
      "cell_type": "markdown",
      "metadata": {
        "id": "FeZVs7et1YfY"
      },
      "source": [
        "# HYPERPARAMETERS-TUNING"
      ]
    },
    {
      "cell_type": "code",
      "metadata": {
        "id": "BcvbaRNL1Zhg"
      },
      "source": [
        "lr = LogisticRegression()\n",
        "solvers = ['newton-cg', 'lbfgs', 'liblinear']\n",
        "penalty = ['l2']\n",
        "c_values = [100, 10, 1.0, 0.1, 0.01]\n",
        "\n",
        "params = dict(solver=solvers,penalty=penalty,C=c_values)"
      ],
      "execution_count": null,
      "outputs": []
    },
    {
      "cell_type": "code",
      "metadata": {
        "id": "Vbm3oTpm1q7t"
      },
      "source": [
        "grid_search = GridSearchCV(estimator=lr, param_grid=params, n_jobs=-1,scoring=\"accuracy\")\n",
        "result = grid_search.fit(x_train_3, y_train)"
      ],
      "execution_count": null,
      "outputs": []
    },
    {
      "cell_type": "code",
      "metadata": {
        "colab": {
          "base_uri": "https://localhost:8080/"
        },
        "id": "8zImCtdv16TW",
        "outputId": "2ce652d2-99cc-40b9-a8e6-863716731701"
      },
      "source": [
        "print(f\"Best: {result.best_score_} using {result.best_params_}\")"
      ],
      "execution_count": null,
      "outputs": [
        {
          "output_type": "stream",
          "name": "stdout",
          "text": [
            "Best: 0.80355871886121 using {'C': 0.1, 'penalty': 'l2', 'solver': 'newton-cg'}\n"
          ]
        }
      ]
    },
    {
      "cell_type": "code",
      "metadata": {
        "id": "uUseSrur2Uqn"
      },
      "source": [
        "lr_params = result.best_params_"
      ],
      "execution_count": null,
      "outputs": []
    },
    {
      "cell_type": "markdown",
      "metadata": {
        "id": "JN7r2f1Uwn7s"
      },
      "source": [
        "#CROSS - VALIDATION"
      ]
    },
    {
      "cell_type": "code",
      "metadata": {
        "id": "XfvOjXuZ4aWU"
      },
      "source": [
        "#stratified for imbalance target\n",
        "def cross_val(X, y, model, params, folds=5):\n",
        "\n",
        "    score = []\n",
        "    skf = StratifiedKFold(n_splits=folds, shuffle=True, random_state=21)\n",
        "\n",
        "    for fold, (train_idx, test_idx) in enumerate(skf.split(X, y)):\n",
        "        print(f\"Fold: {fold+1}\")\n",
        "        x_train, y_train = X.iloc[train_idx], y.iloc[train_idx]\n",
        "        x_test, y_test = X.iloc[test_idx], y.iloc[test_idx]\n",
        " \n",
        "        alg = model(**params)\n",
        "        alg.fit(x_train, y_train)\n",
        " \n",
        "        pred = alg.predict(x_test)\n",
        "        loss = accuracy_score(y_test, pred)\n",
        "        score.append(loss)\n",
        "\n",
        "        print(f\" accuracy_score: {loss}\")\n",
        "        print(\"-\"*50)\n",
        "     \n",
        "    print(\"mean:\",np.array(score).mean())\n",
        "\n",
        "    return alg"
      ],
      "execution_count": null,
      "outputs": []
    },
    {
      "cell_type": "code",
      "metadata": {
        "colab": {
          "base_uri": "https://localhost:8080/"
        },
        "id": "Sbbg8pvS0z1S",
        "outputId": "190ceb59-9bf6-4b9b-ebc5-6c403a07dda9"
      },
      "source": [
        "score_lr = cross_val(x_train_3, y_train, LogisticRegression, lr_params)"
      ],
      "execution_count": null,
      "outputs": [
        {
          "output_type": "stream",
          "name": "stdout",
          "text": [
            "Fold: 1\n",
            " accuracy_score: 0.7882562277580071\n",
            "--------------------------------------------------\n",
            "Fold: 2\n",
            " accuracy_score: 0.8096085409252669\n",
            "--------------------------------------------------\n",
            "Fold: 3\n",
            " accuracy_score: 0.8140569395017794\n",
            "--------------------------------------------------\n",
            "Fold: 4\n",
            " accuracy_score: 0.8131672597864769\n",
            "--------------------------------------------------\n",
            "Fold: 5\n",
            " accuracy_score: 0.7953736654804271\n",
            "--------------------------------------------------\n",
            "mean: 0.8040925266903913\n"
          ]
        }
      ]
    },
    {
      "cell_type": "code",
      "metadata": {
        "id": "o_DcrIcm256S"
      },
      "source": [
        "pred = score_lr.predict(x_val_3)"
      ],
      "execution_count": null,
      "outputs": []
    },
    {
      "cell_type": "code",
      "metadata": {
        "colab": {
          "base_uri": "https://localhost:8080/",
          "height": 188
        },
        "id": "vEbqB_4a3jW3",
        "outputId": "1abbaacf-ab9c-4d8c-e53d-1c94187df138"
      },
      "source": [
        "classification_report(pred, y_val)"
      ],
      "execution_count": null,
      "outputs": [
        {
          "output_type": "execute_result",
          "data": {
            "application/vnd.google.colaboratory.intrinsic+json": {
              "type": "string"
            },
            "text/plain": [
              "'              precision    recall  f1-score   support\\n\\n          No       0.88      0.84      0.86      1092\\n         Yes       0.52      0.61      0.56       314\\n\\n    accuracy                           0.79      1406\\n   macro avg       0.70      0.72      0.71      1406\\nweighted avg       0.80      0.79      0.79      1406\\n'"
            ]
          },
          "metadata": {},
          "execution_count": 155
        }
      ]
    },
    {
      "cell_type": "code",
      "metadata": {
        "colab": {
          "base_uri": "https://localhost:8080/",
          "height": 229
        },
        "id": "SbenSvy73FBU",
        "outputId": "3a8b21e7-c6f0-4231-8c20-a354d7be3d4e"
      },
      "source": [
        "plot_roc_curve(score_lr, x_val_3, y_val)\n",
        "plt.title(\"ROC AUC SCORE\")"
      ],
      "execution_count": null,
      "outputs": [
        {
          "output_type": "execute_result",
          "data": {
            "text/plain": [
              "Text(0.5, 1.0, 'ROC AUC SCORE')"
            ]
          },
          "metadata": {},
          "execution_count": 153
        },
        {
          "output_type": "display_data",
          "data": {
            "image/png": "[encoded data removed]",
            "text/plain": [
              "<Figure size 432x288 with 1 Axes>"
            ]
          },
          "metadata": {
            "needs_background": "light"
          }
        }
      ]
    },
    {
      "cell_type": "code",
      "metadata": {
        "colab": {
          "base_uri": "https://localhost:8080/",
          "height": 288
        },
        "id": "kTopawiF3O1C",
        "outputId": "12ffa5c2-5c0d-4a4c-b239-850320f52ef2"
      },
      "source": [
        "plot_confusion_matrix(score_lr, x_val_3, y_val)\n",
        "plt.title(\"CONFUSION MATRIX\")"
      ],
      "execution_count": null,
      "outputs": [
        {
          "output_type": "execute_result",
          "data": {
            "text/plain": [
              "Text(0.5, 1.0, 'CONFUSION MATRIX')"
            ]
          },
          "metadata": {},
          "execution_count": 152
        },
        {
          "output_type": "display_data",
          "data": {
            "image/png": "[encoded data removed]",
            "text/plain": [
              "<Figure size 432x288 with 2 Axes>"
            ]
          },
          "metadata": {
            "needs_background": "light"
          }
        }
      ]
    },
    {
      "cell_type": "code",
      "metadata": {
        "colab": {
          "base_uri": "https://localhost:8080/"
        },
        "id": "h9gUggQ636Kr",
        "outputId": "8f726bef-f7d3-4754-b550-7e6322853a87"
      },
      "source": [
        "print(f\"accuracy training: {score_lr.score(x_train_3, y_train)}\")\n",
        "print(f\"accuracy validation: {score_lr.score(x_val_3, y_val)}\")"
      ],
      "execution_count": null,
      "outputs": [
        {
          "output_type": "stream",
          "name": "stdout",
          "text": [
            "accuracy training: 0.8026690391459075\n",
            "accuracy validation: 0.7859174964438123\n"
          ]
        }
      ]
    }
  ]
}